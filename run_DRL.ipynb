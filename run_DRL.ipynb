{
  "nbformat": 4,
  "nbformat_minor": 0,
  "metadata": {
    "colab": {
      "name": "run_DRL.ipynb",
      "provenance": [],
      "collapsed_sections": []
    },
    "kernelspec": {
      "name": "python3",
      "display_name": "Python 3"
    },
    "language_info": {
      "name": "python"
    }
  },
  "cells": [
    {
      "cell_type": "code",
      "metadata": {
        "id": "ultSKpztnni8"
      },
      "source": [
        "from google.colab import drive\n",
        "drive.mount('/content/drive')"
      ],
      "execution_count": null,
      "outputs": []
    },
    {
      "cell_type": "code",
      "metadata": {
        "id": "eIfsSx02p2fm"
      },
      "source": [
        "%cd \"/content/drive/MyDrive/CS106.M11\""
      ],
      "execution_count": null,
      "outputs": []
    },
    {
      "cell_type": "code",
      "metadata": {
        "id": "nzJvuyTRpbif"
      },
      "source": [
        "!git clone -b luannguyen https://github.com/ELO102/CS106.M11-Project.git"
      ],
      "execution_count": null,
      "outputs": []
    },
    {
      "cell_type": "code",
      "metadata": {
        "id": "gAwS4D2TnyXL"
      },
      "source": [
        "%cd \"/content/drive/MyDrive/CS106.M11/CS106.M11-Project\""
      ],
      "execution_count": null,
      "outputs": []
    },
    {
      "cell_type": "code",
      "metadata": {
        "id": "mmznjlmInzk3"
      },
      "source": [
        "!pip install -r requirements.txt\n",
        "!pip install pandas==1.2.2"
      ],
      "execution_count": null,
      "outputs": []
    },
    {
      "cell_type": "code",
      "metadata": {
        "id": "ZKWwA39Ln2a2"
      },
      "source": [
        "import sys\n",
        "sys.path.append('/content/drive/MyDrive/CS106.M11/CS106.M11-Project/model')"
      ],
      "execution_count": null,
      "outputs": []
    },
    {
      "cell_type": "code",
      "metadata": {
        "id": "vRr6hZXGn7Ku"
      },
      "source": [
        "# common library\n",
        "import pandas as pd\n",
        "import numpy as np\n",
        "import time\n",
        "# from stable_baselines.common.vec_env import DummyVecEnv\n",
        "\n",
        "# preprocessor\n",
        "# from preprocessors import *\n",
        "# config\n",
        "# from config.config import *\n",
        "# model\n",
        "from model.models import *\n",
        "import os\n",
        "\n",
        "def run_model() -> None:\n",
        "    \"\"\"Train the model.\"\"\"\n",
        "\n",
        "    # read and preprocess data\n",
        "    preprocessed_path = \"/content/drive/MyDrive/CS106.M11/CS106.M11-Project/done_data.csv\"\n",
        "    if os.path.exists(preprocessed_path):\n",
        "        data = pd.read_csv(preprocessed_path, index_col=0)\n",
        "    else:\n",
        "        data = preprocess_data(\"/content/drive/MyDrive/CS106.M11/CS106.M11-Project/gatheredData.csv\")\n",
        "        print(data.head())\n",
        "        data = add_turbulence(data)\n",
        "        data.to_csv(preprocessed_path)\n",
        "         \n",
        "\n",
        "   \n",
        "    # 2015/10/01 is the date that validation starts\n",
        "    # 2016/01/01 is the date that real trading starts\n",
        "    # unique_trade_date needs to start from 2015/10/01 for validation purpose\n",
        "    unique_trade_date = data[(data.datadate > 20151001)&(data.datadate <= 20200707)].datadate.unique()\n",
        "    print(unique_trade_date)\n",
        "    print(unique_trade_date.size)\n",
        "\n",
        "    # rebalance_window is the number of months to retrain the model\n",
        "    # validation_window is the number of months to validation the model and select for trading\n",
        "    rebalance_window = 63\n",
        "    validation_window = 63\n",
        "    # ## Ensemble Strategy\n",
        "    run_ensemble_strategy(df=data, \n",
        "                          unique_trade_date= unique_trade_date,\n",
        "                          rebalance_window = rebalance_window,\n",
        "                          validation_window=validation_window)\n",
        "\n",
        "    # _logger.info(f\"saving model version: {_version}\")\n",
        "if __name__ == \"__main__\":\n",
        "    run_model()\n"
      ],
      "execution_count": null,
      "outputs": []
    }
  ]
}